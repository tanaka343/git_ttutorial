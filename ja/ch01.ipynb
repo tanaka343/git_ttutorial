{
  "cells": [
    {
      "cell_type": "markdown",
      "id": "5d2e8296-0efe-488a-9303-c53e0aac5573",
      "metadata": {
        "editable": true,
        "id": "5d2e8296-0efe-488a-9303-c53e0aac5573",
        "tags": []
      },
      "source": [
        "# 第1章: 準備運動"
      ]
    },
    {
      "cell_type": "markdown",
      "id": "b25a842d-828c-4fcd-b23e-62fcdbabc4dd",
      "metadata": {
        "editable": true,
        "id": "b25a842d-828c-4fcd-b23e-62fcdbabc4dd",
        "tags": []
      },
      "source": [
        "## 00. パタトクカシーー\n",
        "2つの文字列「パトカー」と「タクシー」の文字を先頭から交互に連結し、文字列「パタトクカシーー」を得よ。"
      ]
    },
    {
      "cell_type": "code",
      "source": [
        "S='パトカー'\n",
        "N='タクシー'\n",
        "resolt=''\n",
        "for i in range(len(S)):\n",
        "  s=S[i]\n",
        "  n=N[i]\n",
        "  resolt += s+n\n",
        "print(resolt)"
      ],
      "metadata": {
        "colab": {
          "base_uri": "https://localhost:8080/"
        },
        "id": "cAJaWbsdIZ_f",
        "outputId": "3474f5fc-7b0b-44f0-e2a5-947c9c45c1b0"
      },
      "id": "cAJaWbsdIZ_f",
      "execution_count": 2,
      "outputs": [
        {
          "output_type": "stream",
          "name": "stdout",
          "text": [
            "パタトクカシーー\n"
          ]
        }
      ]
    },
    {
      "cell_type": "markdown",
      "id": "552596a9-f286-49b1-8443-ceb3454889e0",
      "metadata": {
        "editable": true,
        "id": "552596a9-f286-49b1-8443-ceb3454889e0",
        "tags": []
      },
      "source": [
        "## 01. タクシー\n",
        "文字列「パタトクカシーー」の2, 4, 6, 8文字目を取り出し、それらを連結した文字列を得よ。"
      ]
    },
    {
      "cell_type": "code",
      "source": [
        "S='パタトクカシーー'\n",
        "resolt=''\n",
        "for i in range(len(S)):\n",
        "  if (i+1)%2==0:\n",
        "    a=S[i]\n",
        "    resolt +=a\n",
        "print(resolt)"
      ],
      "metadata": {
        "colab": {
          "base_uri": "https://localhost:8080/"
        },
        "id": "cRcmkEolNN7K",
        "outputId": "10320b74-ab50-4b0a-890b-5a5926c8c1e8"
      },
      "id": "cRcmkEolNN7K",
      "execution_count": 11,
      "outputs": [
        {
          "output_type": "stream",
          "name": "stdout",
          "text": [
            "タクシー\n"
          ]
        }
      ]
    },
    {
      "cell_type": "markdown",
      "id": "1c0a9a7c-4ade-4023-9f44-fc9cf394978b",
      "metadata": {
        "editable": true,
        "id": "1c0a9a7c-4ade-4023-9f44-fc9cf394978b",
        "tags": []
      },
      "source": [
        "## 02. 文字列の逆順\n",
        "文字列\"stressed\"の文字を逆に（末尾から先頭に向かって）並べた文字列を得よ。"
      ]
    },
    {
      "cell_type": "code",
      "source": [
        "N='stressed'\n",
        "resolt=''\n",
        "for i in range(len(N)):\n",
        "  a=N[-i-1]\n",
        "  resolt +=a\n",
        "print(resolt)\n"
      ],
      "metadata": {
        "colab": {
          "base_uri": "https://localhost:8080/"
        },
        "id": "T33ad90POZv3",
        "outputId": "a718a729-ecd5-45a4-fe3d-04f5bd2c719e"
      },
      "id": "T33ad90POZv3",
      "execution_count": 14,
      "outputs": [
        {
          "output_type": "stream",
          "name": "stdout",
          "text": [
            "desserts\n"
          ]
        }
      ]
    },
    {
      "cell_type": "markdown",
      "id": "4161bcb5-5baf-4172-b2a6-7c14f1907d54",
      "metadata": {
        "id": "4161bcb5-5baf-4172-b2a6-7c14f1907d54"
      },
      "source": [
        "## 03. 円周率\n",
        "\"Now I need a drink, alcoholic of course, after the heavy lectures involving quantum mechanics.\"という文を単語に分解し、各単語の（アルファベットの）文字数を先頭から出現順に並べたリストを作成せよ。"
      ]
    },
    {
      "cell_type": "code",
      "source": [
        "N='Now I need a drink, alcoholic of course, after the heavy lectures involving quantum mechanics'\n",
        "A=map(len,N.split())\n",
        "print(list(A))\n",
        "B=N.split()#空白で分割してリストにする\n",
        "print(len(B))#リストの長さ\n",
        "C=[]\n",
        "for i in B:\n",
        "  a=len(i)\n",
        "  C.append(a)\n",
        "print(C)"
      ],
      "metadata": {
        "colab": {
          "base_uri": "https://localhost:8080/"
        },
        "id": "ALwj10tAR3R8",
        "outputId": "4d243dfc-887a-4724-c070-966c3b8e196d"
      },
      "id": "ALwj10tAR3R8",
      "execution_count": 20,
      "outputs": [
        {
          "output_type": "stream",
          "name": "stdout",
          "text": [
            "[3, 1, 4, 1, 6, 9, 2, 7, 5, 3, 5, 8, 9, 7, 9]\n",
            "15\n",
            "[3, 1, 4, 1, 6, 9, 2, 7, 5, 3, 5, 8, 9, 7, 9]\n"
          ]
        }
      ]
    },
    {
      "cell_type": "markdown",
      "id": "8e56c958-d6fb-411c-9dc6-77992c515637",
      "metadata": {
        "id": "8e56c958-d6fb-411c-9dc6-77992c515637"
      },
      "source": [
        "## 04. 元素記号\n",
        "\"Hi He Lied Because Boron Could Not Oxidize Fluorine. New Nations Might Also Sign Peace Security Clause. Arthur King Can.\"という文を単語に分解し、1, 5, 6, 7, 8, 9, 15, 16, 19番目の単語は先頭の1文字、それ以外の単語は先頭の2文字を取り出し、取り出した文字列から単語の位置（先頭から何番目の単語か）への連想配列（辞書型もしくはマップ型）を作成せよ。"
      ]
    },
    {
      "cell_type": "code",
      "source": [
        "N='Hi He Lied Because Boron Could Not Oxidize Fluorine. New Nations Might Also Sign Peace Security Clause. Arthur King Can.'\n",
        "B=[1, 5, 6, 7, 8, 9, 15, 16, 19]\n",
        "C=len(N)\n",
        "X={}\n",
        "A=N.split()\n",
        "for j in range(1,len(A)+1):\n",
        "  if j in B:\n",
        "    a=A[j-1]\n",
        "    X[a[0]]=j\n",
        "  else:\n",
        "    a=A[j-1]\n",
        "    X[a[0]+a[1]]=j\n",
        "print(X)"
      ],
      "metadata": {
        "colab": {
          "base_uri": "https://localhost:8080/"
        },
        "id": "gp94Ez8OTSdZ",
        "outputId": "66aeeadc-0ccf-42b6-9ca6-45bb2ddbad6e"
      },
      "id": "gp94Ez8OTSdZ",
      "execution_count": 3,
      "outputs": [
        {
          "output_type": "stream",
          "name": "stdout",
          "text": [
            "{'H': 1, 'He': 2, 'Li': 3, 'Be': 4, 'B': 5, 'C': 6, 'N': 7, 'O': 8, 'F': 9, 'Ne': 10, 'Na': 11, 'Mi': 12, 'Al': 13, 'Si': 14, 'P': 15, 'S': 16, 'Cl': 17, 'Ar': 18, 'K': 19, 'Ca': 20}\n"
          ]
        }
      ]
    },
    {
      "cell_type": "markdown",
      "id": "5269dd34-1b19-4a99-9e3d-593e978f3361",
      "metadata": {
        "id": "5269dd34-1b19-4a99-9e3d-593e978f3361"
      },
      "source": [
        "## 05. n-gram\n",
        "与えられたシーケンス（文字列やリストなど）からn-gramを作る関数を作成せよ。この関数を用い、\"I am an NLPer\"という文から文字tri-gram、単語bi-gramを得よ。"
      ]
    },
    {
      "cell_type": "markdown",
      "id": "15df1a31-7906-4562-b5c5-b52194487ea9",
      "metadata": {
        "id": "15df1a31-7906-4562-b5c5-b52194487ea9"
      },
      "source": [
        "## 06. 集合\n",
        "\"paraparaparadise\"と\"paragraph\"に含まれる文字bi-gramの集合を、それぞれ, $X$ と $Y$ として求め、$X$ と $Y$ の和集合（$X \\cup Y$）、積集合（$X \\cap Y$）、差集合（$X \\setminus Y$）を求めよ。さらに、'se'というbi-gramがXおよびYに含まれるかどうかを調べよ。"
      ]
    },
    {
      "cell_type": "markdown",
      "id": "90b9bdde-e35c-4dc5-a46d-f7a8dd6d6513",
      "metadata": {
        "id": "90b9bdde-e35c-4dc5-a46d-f7a8dd6d6513"
      },
      "source": [
        "## 07. テンプレートによる文生成\n",
        "引数x, y, zを受け取り「x時のyはz」という文字列を返す関数を実装せよ。さらに、x=12, y=\"気温\", z=22.4として、実行結果を確認せよ。"
      ]
    },
    {
      "cell_type": "markdown",
      "id": "215bd86b-1b3c-4446-98ae-af5d671fba12",
      "metadata": {
        "id": "215bd86b-1b3c-4446-98ae-af5d671fba12"
      },
      "source": [
        "## 08. 暗号文\n",
        "与えられた文字列の各文字を、以下の仕様で変換する関数cipherを実装せよ。\n",
        "\n",
        "* 英小文字ならば (219 - 文字コード) のASCIIコードに対応する文字に置換\n",
        "* その他の文字はそのまま出力\n",
        "\n",
        "この関数を用い、英語のメッセージを暗号化・復号化せよ。"
      ]
    },
    {
      "cell_type": "markdown",
      "id": "64c1bdae-5ce3-4128-86be-23ce079a2d98",
      "metadata": {
        "id": "64c1bdae-5ce3-4128-86be-23ce079a2d98"
      },
      "source": [
        "## 09. Typoglycemia\n",
        "スペースで区切られた単語列に対して、各単語の先頭と末尾の文字は残し、それ以外の文字の順序をランダムに並び替えるプログラムを作成せよ。ただし、長さが４以下の単語は並び替えないこととする。適当な英語の文（例えば\"I couldn't believe that I could actually understand what I was reading : the phenomenal power of the human mind .\"）を与え、その実行結果を確認せよ。"
      ]
    }
  ],
  "metadata": {
    "colab": {
      "provenance": []
    },
    "kernelspec": {
      "display_name": "Python 3",
      "name": "python3"
    },
    "language_info": {
      "codemirror_mode": {
        "name": "ipython",
        "version": 3
      },
      "file_extension": ".py",
      "mimetype": "text/x-python",
      "name": "python",
      "nbconvert_exporter": "python",
      "pygments_lexer": "ipython3",
      "version": "3.12.3"
    }
  },
  "nbformat": 4,
  "nbformat_minor": 5
}